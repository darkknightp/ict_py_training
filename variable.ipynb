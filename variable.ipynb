{
 "cells": [
  {
   "cell_type": "code",
   "execution_count": 1,
   "metadata": {},
   "outputs": [
    {
     "name": "stdout",
     "output_type": "stream",
     "text": [
      "<class 'str'>\n"
     ]
    }
   ],
   "source": [
    "first_name , second_name = [\"nithish\",\"dhanush\"]\n",
    "print(type(first_name))"
   ]
  },
  {
   "cell_type": "code",
   "execution_count": 1,
   "metadata": {},
   "outputs": [
    {
     "name": "stdout",
     "output_type": "stream",
     "text": [
      "3.14\n",
      "c**2=a**2+b**2\n"
     ]
    }
   ],
   "source": [
    "import main\n",
    "print(main.pi)\n",
    "print(main.p_theorem)"
   ]
  },
  {
   "cell_type": "code",
   "execution_count": 6,
   "metadata": {},
   "outputs": [
    {
     "name": "stdout",
     "output_type": "stream",
     "text": [
      "the value of 20 is 20\n",
      "75\n"
     ]
    }
   ],
   "source": [
    "n=int(input(\"number \"))\n",
    "if n<0:\n",
    "    print(\"the value of\", n, \"is\", -n)\n",
    "    \n",
    "else:\n",
    "    print(\"the value of\", n, \"is\", n)\n",
    "    \n",
    "sum=50+(n+5)\n",
    "print(sum)"
   ]
  },
  {
   "cell_type": "code",
   "execution_count": 10,
   "metadata": {},
   "outputs": [
    {
     "name": "stdout",
     "output_type": "stream",
     "text": [
      "the number is 10\n",
      "the number 10 is positive\n"
     ]
    }
   ],
   "source": [
    "n=int(input(\"enter a number \"))\n",
    "print(\"the number is\" , n)\n",
    "if n>0:\n",
    "    print(\"the number\", n, \"is\", \"positive\")\n",
    "    \n",
    "else:\n",
    "    print(\"the number\", n, \"is\", \"negative\")\n"
   ]
  },
  {
   "cell_type": "code",
   "execution_count": 5,
   "metadata": {},
   "outputs": [
    {
     "data": {
      "text/plain": [
       "[0, 1, 2, 3, 4, 5, 6, 7, 8, 9, 10, 11, 12, 13, 14, 15, 16, 17, 18, 19, 20]"
      ]
     },
     "execution_count": 5,
     "metadata": {},
     "output_type": "execute_result"
    }
   ],
   "source": [
    "numbers =[i for i in range(21)]\n",
    "numbers"
   ]
  }
 ],
 "metadata": {
  "kernelspec": {
   "display_name": "base",
   "language": "python",
   "name": "python3"
  },
  "language_info": {
   "codemirror_mode": {
    "name": "ipython",
    "version": 3
   },
   "file_extension": ".py",
   "mimetype": "text/x-python",
   "name": "python",
   "nbconvert_exporter": "python",
   "pygments_lexer": "ipython3",
   "version": "3.12.7"
  }
 },
 "nbformat": 4,
 "nbformat_minor": 2
}
